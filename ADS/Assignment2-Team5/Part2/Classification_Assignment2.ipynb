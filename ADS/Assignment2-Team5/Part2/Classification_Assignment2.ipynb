{
 "cells": [
  {
   "cell_type": "code",
   "execution_count": 1,
   "metadata": {
    "collapsed": false
   },
   "outputs": [],
   "source": [
    "# Package imports\n",
    "%matplotlib inline \n",
    "from IPython.display import Image\n",
    "import matplotlib as mlp\n",
    "import matplotlib.pyplot as plt\n",
    "import numpy as np\n",
    "import pandas as pd\n",
    "import sklearn\n",
    "import warnings\n",
    "from sklearn.metrics import roc_curve\n",
    "from sklearn.utils import ConvergenceWarning\n",
    "from sklearn.linear_model import LogisticRegression\n",
    "from sklearn.ensemble import RandomForestClassifier\n",
    "from sklearn.metrics import confusion_matrix\n",
    "from sklearn import cross_validation\n",
    "from sklearn import tree\n",
    "from sklearn import svm\n",
    "from sklearn import ensemble\n",
    "from sklearn import neighbors\n",
    "from sklearn import linear_model\n",
    "from sklearn import metrics\n",
    "from sklearn import preprocessing\n",
    "import matplotlib.pyplot as plt\n",
    "import numpy as np\n",
    "from sklearn.linear_model import LinearRegression\n",
    "from sklearn.linear_model import LogisticRegression\n",
    "import pandas as pd\n",
    "import statsmodels.formula.api as smf\n",
    "from sklearn.preprocessing import LabelEncoder\n",
    "from sklearn.preprocessing import StandardScaler\n",
    "from sklearn.cross_validation import train_test_split, KFold, StratifiedShuffleSplit,StratifiedKFold\n",
    "from sklearn.ensemble import RandomForestClassifier\n",
    "from sklearn.svm import SVC\n",
    "from sklearn import metrics\n",
    "from sklearn.metrics import confusion_matrix\n",
    "from sklearn.metrics import roc_curve\n",
    "from sklearn.metrics import accuracy_score\n",
    "import matplotlib.pyplot as plt\n",
    "from sklearn.feature_selection import RFE\n",
    "import warnings\n",
    "warnings.filterwarnings('ignore')"
   ]
  },
  {
   "cell_type": "code",
   "execution_count": 2,
   "metadata": {
    "collapsed": false
   },
   "outputs": [
    {
     "data": {
      "text/html": [
       "<div>\n",
       "<table border=\"1\" class=\"dataframe\">\n",
       "  <thead>\n",
       "    <tr style=\"text-align: right;\">\n",
       "      <th></th>\n",
       "      <th>loan_amnt</th>\n",
       "      <th>last_meanfico</th>\n",
       "      <th>dti</th>\n",
       "      <th>addr_state</th>\n",
       "      <th>emp_length</th>\n",
       "      <th>policy_code</th>\n",
       "      <th>purpose</th>\n",
       "      <th>issue_month</th>\n",
       "      <th>issue_year</th>\n",
       "      <th>status</th>\n",
       "    </tr>\n",
       "  </thead>\n",
       "  <tbody>\n",
       "    <tr>\n",
       "      <th>0</th>\n",
       "      <td>5000</td>\n",
       "      <td>737</td>\n",
       "      <td>27.65</td>\n",
       "      <td>AZ</td>\n",
       "      <td>10</td>\n",
       "      <td>1</td>\n",
       "      <td>credit_card</td>\n",
       "      <td>12</td>\n",
       "      <td>2011</td>\n",
       "      <td>1</td>\n",
       "    </tr>\n",
       "    <tr>\n",
       "      <th>1</th>\n",
       "      <td>2500</td>\n",
       "      <td>742</td>\n",
       "      <td>1.00</td>\n",
       "      <td>GA</td>\n",
       "      <td>1</td>\n",
       "      <td>1</td>\n",
       "      <td>car</td>\n",
       "      <td>12</td>\n",
       "      <td>2011</td>\n",
       "      <td>1</td>\n",
       "    </tr>\n",
       "    <tr>\n",
       "      <th>2</th>\n",
       "      <td>2400</td>\n",
       "      <td>737</td>\n",
       "      <td>8.72</td>\n",
       "      <td>IL</td>\n",
       "      <td>10</td>\n",
       "      <td>1</td>\n",
       "      <td>small_business</td>\n",
       "      <td>12</td>\n",
       "      <td>2011</td>\n",
       "      <td>1</td>\n",
       "    </tr>\n",
       "    <tr>\n",
       "      <th>3</th>\n",
       "      <td>10000</td>\n",
       "      <td>692</td>\n",
       "      <td>20.00</td>\n",
       "      <td>CA</td>\n",
       "      <td>10</td>\n",
       "      <td>1</td>\n",
       "      <td>other</td>\n",
       "      <td>12</td>\n",
       "      <td>2011</td>\n",
       "      <td>1</td>\n",
       "    </tr>\n",
       "    <tr>\n",
       "      <th>4</th>\n",
       "      <td>3000</td>\n",
       "      <td>697</td>\n",
       "      <td>17.94</td>\n",
       "      <td>OR</td>\n",
       "      <td>1</td>\n",
       "      <td>1</td>\n",
       "      <td>other</td>\n",
       "      <td>12</td>\n",
       "      <td>2011</td>\n",
       "      <td>1</td>\n",
       "    </tr>\n",
       "  </tbody>\n",
       "</table>\n",
       "</div>"
      ],
      "text/plain": [
       "   loan_amnt  last_meanfico    dti addr_state  emp_length  policy_code  \\\n",
       "0       5000            737  27.65         AZ          10            1   \n",
       "1       2500            742   1.00         GA           1            1   \n",
       "2       2400            737   8.72         IL          10            1   \n",
       "3      10000            692  20.00         CA          10            1   \n",
       "4       3000            697  17.94         OR           1            1   \n",
       "\n",
       "          purpose  issue_month  issue_year  status  \n",
       "0     credit_card           12        2011       1  \n",
       "1             car           12        2011       1  \n",
       "2  small_business           12        2011       1  \n",
       "3           other           12        2011       1  \n",
       "4           other           12        2011       1  "
      ]
     },
     "execution_count": 2,
     "metadata": {},
     "output_type": "execute_result"
    }
   ],
   "source": [
    "from io import StringIO\n",
    "import requests\n",
    "import json\n",
    "import pandas as pd\n",
    "\n",
    "# @hidden_cell\n",
    "# This function accesses a file in your Object Storage. The definition contains your credentials.\n",
    "# You might want to remove those credentials before you share your notebook.\n",
    "def get_object_storage_file_with_credentials_14d326a3558e4fc0bfeb2361ed8fd35c(container, filename):\n",
    "    \"\"\"This functions returns a StringIO object containing\n",
    "    the file content from Bluemix Object Storage.\"\"\"\n",
    "\n",
    "    url1 = ''.join(['https://identity.open.softlayer.com', '/v3/auth/tokens'])\n",
    "    data = {'auth': {'identity': {'methods': ['password'],\n",
    "            'password': {'user': {'name': 'member_3c25b61fef62727472d70bdd15a6ecc3b9af4f3b','domain': {'id': 'fcf7d2f57ba04101a6ee7e43c6b09dc5'},\n",
    "            'password': 'VW28-eGxM{X-!mji'}}}}}\n",
    "    headers1 = {'Content-Type': 'application/json'}\n",
    "    resp1 = requests.post(url=url1, data=json.dumps(data), headers=headers1)\n",
    "    resp1_body = resp1.json()\n",
    "    for e1 in resp1_body['token']['catalog']:\n",
    "        if(e1['type']=='object-store'):\n",
    "            for e2 in e1['endpoints']:\n",
    "                        if(e2['interface']=='public'and e2['region']=='dallas'):\n",
    "                            url2 = ''.join([e2['url'],'/', container, '/', filename])\n",
    "    s_subject_token = resp1.headers['x-subject-token']\n",
    "    headers2 = {'X-Auth-Token': s_subject_token, 'accept': 'application/json'}\n",
    "    resp2 = requests.get(url=url2, headers=headers2)\n",
    "    return StringIO(resp2.text)\n",
    "\n",
    "df_data_1 = pd.read_csv(get_object_storage_file_with_credentials_14d326a3558e4fc0bfeb2361ed8fd35c('ADSAssignment2', 'Final_loan.csv'))\n",
    "df_data_1.head()\n"
   ]
  },
  {
   "cell_type": "code",
   "execution_count": 3,
   "metadata": {
    "collapsed": true
   },
   "outputs": [],
   "source": [
    "#Keep the following 6 features (variables) which are important\n",
    "cols_to_keep = ['loan_amnt', 'last_meanfico', 'dti','addr_state','emp_length','purpose']\n",
    "train, test = sklearn.cross_validation.train_test_split(df_data_1, train_size = 0.7)\n",
    "train_y = train['status']\n",
    "test_y = test['status']\n",
    "train_x = train[cols_to_keep]\n",
    "test_x = test[cols_to_keep]"
   ]
  },
  {
   "cell_type": "code",
   "execution_count": 4,
   "metadata": {
    "collapsed": false
   },
   "outputs": [],
   "source": [
    "from sklearn import preprocessing\n",
    "# Discreet value integer encoder\n",
    "label_encoder = preprocessing.LabelEncoder()\n",
    "# State is string and we want discre integer values\n",
    "train_x['state'] = label_encoder.fit_transform(train_x['addr_state'])\n",
    "test_x['state'] = label_encoder.fit_transform(test_x['addr_state'])\n",
    "train_x['purp'] = label_encoder.fit_transform(train_x['purpose'])\n",
    "test_x['purp'] = label_encoder.fit_transform(test_x['purpose'])"
   ]
  },
  {
   "cell_type": "code",
   "execution_count": 5,
   "metadata": {
    "collapsed": true
   },
   "outputs": [],
   "source": [
    "train_x = train_x._get_numeric_data()\n",
    "test_x = test_x._get_numeric_data()"
   ]
  },
  {
   "cell_type": "code",
   "execution_count": 6,
   "metadata": {
    "collapsed": false
   },
   "outputs": [
    {
     "data": {
      "text/html": [
       "<div>\n",
       "<table border=\"1\" class=\"dataframe\">\n",
       "  <thead>\n",
       "    <tr style=\"text-align: right;\">\n",
       "      <th></th>\n",
       "      <th>loan_amnt</th>\n",
       "      <th>last_meanfico</th>\n",
       "      <th>dti</th>\n",
       "      <th>emp_length</th>\n",
       "      <th>state</th>\n",
       "      <th>purp</th>\n",
       "    </tr>\n",
       "  </thead>\n",
       "  <tbody>\n",
       "    <tr>\n",
       "      <th>6666991</th>\n",
       "      <td>5000</td>\n",
       "      <td>501</td>\n",
       "      <td>13.97</td>\n",
       "      <td>1</td>\n",
       "      <td>37</td>\n",
       "      <td>55</td>\n",
       "    </tr>\n",
       "    <tr>\n",
       "      <th>460892</th>\n",
       "      <td>10000</td>\n",
       "      <td>697</td>\n",
       "      <td>3.72</td>\n",
       "      <td>10</td>\n",
       "      <td>5</td>\n",
       "      <td>49</td>\n",
       "    </tr>\n",
       "    <tr>\n",
       "      <th>6289137</th>\n",
       "      <td>7000</td>\n",
       "      <td>304</td>\n",
       "      <td>10.60</td>\n",
       "      <td>1</td>\n",
       "      <td>20</td>\n",
       "      <td>45</td>\n",
       "    </tr>\n",
       "    <tr>\n",
       "      <th>12054109</th>\n",
       "      <td>25000</td>\n",
       "      <td>304</td>\n",
       "      <td>69.76</td>\n",
       "      <td>1</td>\n",
       "      <td>2</td>\n",
       "      <td>45</td>\n",
       "    </tr>\n",
       "    <tr>\n",
       "      <th>11516824</th>\n",
       "      <td>1500</td>\n",
       "      <td>304</td>\n",
       "      <td>319.24</td>\n",
       "      <td>1</td>\n",
       "      <td>36</td>\n",
       "      <td>52</td>\n",
       "    </tr>\n",
       "  </tbody>\n",
       "</table>\n",
       "</div>"
      ],
      "text/plain": [
       "          loan_amnt  last_meanfico     dti  emp_length  state  purp\n",
       "6666991        5000            501   13.97           1     37    55\n",
       "460892        10000            697    3.72          10      5    49\n",
       "6289137        7000            304   10.60           1     20    45\n",
       "12054109      25000            304   69.76           1      2    45\n",
       "11516824       1500            304  319.24           1     36    52"
      ]
     },
     "execution_count": 6,
     "metadata": {},
     "output_type": "execute_result"
    }
   ],
   "source": [
    "train_x.head()"
   ]
  },
  {
   "cell_type": "code",
   "execution_count": 8,
   "metadata": {
    "collapsed": true
   },
   "outputs": [],
   "source": [
    "def calculate_roc_curve(Y_test, y_pred, pos_label):    \n",
    "    fpr, tpr, _ = roc_curve(Y_test, preds)\n",
    "    #Plot ROC curve\n",
    "    plt.figure()\n",
    "    plt.plot(fpr, tpr, label='ROC curve')\n",
    "    plt.plot([0, 1], [0, 1], 'k--')\n",
    "    plt.xlim([0.0, 1.0])\n",
    "    plt.ylim([0.0, 1.05])\n",
    "    plt.xlabel('1-Specificity')\n",
    "    plt.ylabel('Sensitivity')\n",
    "    plt.title('ROC curve')\n",
    "    plt.legend(loc=\"lower right\")\n",
    "    plt.show()\n",
    "\n",
    "def calculate_confusion_matrix(y_true, y_pred):    \n",
    "    cm=confusion_matrix(y_true, y_pred)\n",
    "    print(cm)"
   ]
  },
  {
   "cell_type": "code",
   "execution_count": 9,
   "metadata": {
    "collapsed": false
   },
   "outputs": [
    {
     "name": "stdout",
     "output_type": "stream",
     "text": [
      "('Intercept is ', array([-4.35235659]))\n",
      "('Coefficient is ', array([[ -2.07088278e-05,   6.27878832e-03,  -2.32898171e-02,\n",
      "          3.20780048e-01,  -1.67046429e-02,  -2.21743219e-02]]))\n"
     ]
    },
    {
     "data": {
      "image/png": "[encoded data removed]",
      "text/plain": [
       "<matplotlib.figure.Figure at 0x7f1c60a10a90>"
      ]
     },
     "metadata": {},
     "output_type": "display_data"
    },
    {
     "name": "stdout",
     "output_type": "stream",
     "text": [
      "[[3256338   67854]\n",
      " [ 213655  182523]]\n",
      "0.924333063647\n"
     ]
    }
   ],
   "source": [
    "#logistic regression\n",
    "log_reg = LogisticRegression()\n",
    "log_reg.fit(train_x, train_y)\n",
    "print (\"Intercept is \",log_reg.intercept_)\n",
    "print(\"Coefficient is \",log_reg.coef_)\n",
    "y_pred=log_reg.predict(test_x)\n",
    "\n",
    "#calculate ROC curve\n",
    "preds = log_reg.predict_proba(test_x)[:,1]\n",
    "calculate_roc_curve(test_y, preds,2)\n",
    "\n",
    "#calculate Confusion Matrix\n",
    "calculate_confusion_matrix(test_y, y_pred)\n",
    "\n",
    "print(accuracy_score(test_y, y_pred))\n"
   ]
  },
  {
   "cell_type": "code",
   "execution_count": 10,
   "metadata": {
    "collapsed": false
   },
   "outputs": [
    {
     "data": {
      "image/png": "[encoded data removed]",
      "text/plain": [
       "<matplotlib.figure.Figure at 0x7f1c5e319cd0>"
      ]
     },
     "metadata": {},
     "output_type": "display_data"
    },
    {
     "name": "stdout",
     "output_type": "stream",
     "text": [
      "[[3266240   57952]\n",
      " [  79249  316929]]\n",
      "0.963121678758\n"
     ]
    }
   ],
   "source": [
    "#Random Forest\n",
    "rf = RandomForestClassifier(n_jobs=2)\n",
    "rf.fit(train_x, train_y)\n",
    "preds = rf.predict_proba(test_x)[:,1]\n",
    "y_pred=rf.predict(test_x)\n",
    "#calculate ROC curve\n",
    "calculate_roc_curve(test_y, y_pred,2) \n",
    " #calculate Confusion Matrix\n",
    "\n",
    "calculate_confusion_matrix(test_y, y_pred)\n",
    "print(accuracy_score(test_y, y_pred))"
   ]
  },
  {
   "cell_type": "code",
   "execution_count": null,
   "metadata": {
    "collapsed": false
   },
   "outputs": [],
   "source": [
    "print(\"Staring Support Vector Machine\")\n",
    "clf = SVC()\n",
    "clf.fit(train_x, train_y)\n",
    "y_pred=clf.predict(test_x)\n",
    "\n",
    "#calculate ROC curve\n",
    "preds = clf.predict_proba(test_x)[:,1]\n",
    "calculate_roc_curve(test_y, preds,2) \n",
    " #calculate Confusion Matrix\n",
    "\n",
    "calculate_confusion_matrix(Y_test, y_pred)\n",
    "print(accuracy_score(Y_test, y_pred))"
   ]
  },
  {
   "cell_type": "code",
   "execution_count": 12,
   "metadata": {
    "collapsed": false
   },
   "outputs": [
    {
     "name": "stdout",
     "output_type": "stream",
     "text": [
      "('Num Features:', 5)\n",
      "('Selected Features', array([False,  True,  True,  True,  True,  True], dtype=bool))\n",
      "('Feature Ranking: ', array([2, 1, 1, 1, 1, 1]))\n"
     ]
    }
   ],
   "source": [
    "# RFE Code to extract features\n",
    "model = LogisticRegression()\n",
    "rfe = RFE(model, 5)\n",
    "fit = rfe.fit(train_x, train_y)\n",
    "print(\"Num Features:\", fit.n_features_)\n",
    "print(\"Selected Features\" , fit.support_)\n",
    "print(\"Feature Ranking: \", fit.ranking_)"
   ]
  },
  {
   "cell_type": "code",
   "execution_count": 13,
   "metadata": {
    "collapsed": false
   },
   "outputs": [
    {
     "name": "stdout",
     "output_type": "stream",
     "text": [
      "Optimization terminated successfully.\n",
      "         Current function value: 0.266703\n",
      "         Iterations 13\n",
      "                           Logit Regression Results                           \n",
      "==============================================================================\n",
      "Dep. Variable:                 status   No. Observations:              8680863\n",
      "Model:                          Logit   Df Residuals:                  8680857\n",
      "Method:                           MLE   Df Model:                            5\n",
      "Date:                Fri, 14 Apr 2017   Pseudo R-squ.:                  0.2142\n",
      "Time:                        02:12:54   Log-Likelihood:            -2.3152e+06\n",
      "converged:                       True   LL-Null:                   -2.9464e+06\n",
      "                                        LLR p-value:                     0.000\n",
      "=================================================================================\n",
      "                    coef    std err          z      P>|z|      [95.0% Conf. Int.]\n",
      "---------------------------------------------------------------------------------\n",
      "loan_amnt     -4.056e-05   1.29e-07   -315.473      0.000     -4.08e-05 -4.03e-05\n",
      "last_meanfico     0.0032   6.23e-06    516.059      0.000         0.003     0.003\n",
      "dti              -0.0336   9.24e-05   -363.547      0.000        -0.034    -0.033\n",
      "emp_length        0.3261      0.000    840.105      0.000         0.325     0.327\n",
      "state            -0.0316   8.06e-05   -392.551      0.000        -0.032    -0.031\n",
      "purp             -0.0644   6.83e-05   -943.143      0.000        -0.065    -0.064\n",
      "=================================================================================\n"
     ]
    }
   ],
   "source": [
    "#stats model for feature extraction\n",
    "import statsmodels.api as sm\n",
    "from statsmodels.formula.api import logit, probit, poisson, ols\n",
    "logit = sm.Logit(train_y, train_x)\n",
    "affair_mod = logit.fit()\n",
    "print(affair_mod.summary())"
   ]
  },
  {
   "cell_type": "code",
   "execution_count": null,
   "metadata": {
    "collapsed": true
   },
   "outputs": [],
   "source": [
    "# build a neural network\n",
    " \n",
    "#Calculating rows and columns for input dfs\n",
    "trn_rows,trn_cols=train_x.shape\n",
    "tst_rows,tst_cols=test_x.shape\n",
    "\n",
    "# build train dataset\n",
    "train_data = ClassificationDataSet(trn_cols, 1 , nb_classes=2)\n",
    "for k in range(len(train_x)): \n",
    "    train_data.addSample(train_x.iloc[k],train_y.iloc[k]) \n",
    "\n",
    "# build test dataset\n",
    "test_data = ClassificationDataSet(tst_cols, 1 , nb_classes=2)\n",
    "for k in range(len(test_x)): \n",
    "    test_data.addSample(test_x.iloc[k],test_y.iloc[k])\n",
    "\n",
    "\n",
    "print(\"Train Dataset input length: {}\".format(len(train_data['input'])))\n",
    "print(\"Train Dataset output length: {}\".format(len(train_data['target'])))\n",
    "print(\"Train Dataset input|output dimensions are {}|{}\".format(train_data.indim, train_data.outdim))\n",
    "\n",
    "print(\"Train Data length: {}\".format(len(train_data)))\n",
    "print(\"Test Data length: {}\".format(len(test_data)))\n",
    "\n",
    "# encode with one output neuron per class\n",
    "train_data._convertToOneOfMany()\n",
    "test_data._convertToOneOfMany()\n",
    "\n",
    "print(\"Train Data input|output dimensions are {}|{}\".format(train_data.indim, train_data.outdim))\n",
    "print(\"Test Data input|output dimensions are {}|{}\".format(test_data.indim, test_data.outdim))\n",
    "\n",
    "# build network (INPUT=10,HIDDEN=5,CLASSES=2,outclass=SoftmaxLayer)\n",
    "print(\"Building Neural network with 5 hidden layer\")\n",
    "network = buildNetwork(train_data.indim,5,train_data.outdim,outclass=SoftmaxLayer)\n",
    "\n",
    "# train network\n",
    "print(\"Training the network, it may take a while...\")\n",
    "trainer = BackpropTrainer(network,dataset=train_data,momentum=0.1,verbose=True,weightdecay=0.01)\n",
    "trainer.trainOnDataset(train_data, 1) #training model on One epoch\n",
    "\n",
    "print(\"Total epochs: {}\".format(trainer.totalepochs))\n",
    "\n",
    "# test network\n",
    "print(\"Predicting the output array with the trained model\")\n",
    "output = network.activateOnDataset(test_data).argmax(axis=1)\n",
    "\n",
    "#Neural network Percent error and accuracy    \n",
    "print(\"Percent error: {}\".format(percentError(output, test_data['class'])))\n",
    "print(\"Model Accuracy: {}\".Validator.classificationPerformance(output, test_y))\n",
    "\n",
    "#Compute confusion metrics\n",
    "calculate_confusion_matrix(test_y,output)      \n"
   ]
  }
 ],
 "metadata": {
  "kernelspec": {
   "display_name": "Python [Root]",
   "language": "python",
   "name": "Python [Root]"
  },
  "language_info": {
   "codemirror_mode": {
    "name": "ipython",
    "version": 3
   },
   "file_extension": ".py",
   "mimetype": "text/x-python",
   "name": "python",
   "nbconvert_exporter": "python",
   "pygments_lexer": "ipython3",
   "version": "3.5.2"
  }
 },
 "nbformat": 4,
 "nbformat_minor": 0
}
